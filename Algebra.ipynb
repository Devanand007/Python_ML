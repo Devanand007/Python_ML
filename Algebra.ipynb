{
  "nbformat": 4,
  "nbformat_minor": 0,
  "metadata": {
    "colab": {
      "provenance": [],
      "toc_visible": true,
      "authorship_tag": "ABX9TyP9kniSh196V5Bt7lLUeepZ",
      "include_colab_link": true
    },
    "kernelspec": {
      "name": "python3",
      "display_name": "Python 3"
    },
    "language_info": {
      "name": "python"
    }
  },
  "cells": [
    {
      "cell_type": "markdown",
      "metadata": {
        "id": "view-in-github",
        "colab_type": "text"
      },
      "source": [
        "<a href=\"https://colab.research.google.com/github/Devanand007/Python_ML/blob/main/Algebra.ipynb\" target=\"_parent\"><img src=\"https://colab.research.google.com/assets/colab-badge.svg\" alt=\"Open In Colab\"/></a>"
      ]
    },
    {
      "cell_type": "markdown",
      "source": [
        "# Ratio ,proportion and conversion\n"
      ],
      "metadata": {
        "id": "MPTh9RTHCTRg"
      }
    },
    {
      "cell_type": "markdown",
      "source": [
        "\n",
        "Set up a proportion:<br>\n",
        "$\\frac {n1}{d1} = \\frac {n2}{d2}$"
      ],
      "metadata": {
        "id": "H316IrAqG1Mr"
      }
    },
    {
      "cell_type": "code",
      "source": [
        "#Put a zero in for the unknown value\n",
        "n1 = 1\n",
        "d1 = 2\n",
        "n2 = int(input('enter n1 if it x then 0'))\n",
        "d2 = int (input('enter d2 if its x then input 0'))\n",
        "\n",
        "if n2==0:\n",
        "    answer = d2 * n1 / d1\n",
        "    print(\"n2 = \", answer)\n",
        "\n",
        "if d2==0:\n",
        "    answer = n2 * d1 / n1\n",
        "    print(\"d2 = \", answer)"
      ],
      "metadata": {
        "colab": {
          "base_uri": "https://localhost:8080/"
        },
        "id": "ajDW93lVG0YR",
        "outputId": "0c6efc2c-06c9-4fe7-cf24-01cd9c964eba"
      },
      "execution_count": 3,
      "outputs": [
        {
          "output_type": "stream",
          "name": "stdout",
          "text": [
            "enter n1 if it x then 05\n",
            "enter d2 if its x then input 00\n",
            "d2 =  10.0\n"
          ]
        }
      ]
    },
    {
      "cell_type": "code",
      "source": [
        "# converts string input (including fractions) to float\n",
        "def string_frac(in_string):\n",
        "    if \"/\" in in_string:\n",
        "        nd = in_string.split(\"/\")\n",
        "        n = float(nd[0])\n",
        "        d = float(nd[1])\n",
        "        ans = n/d\n",
        "        return ans\n",
        "    else:\n",
        "        ans = float(in_string)\n",
        "        return ans\n",
        "\n",
        "\n",
        "# Proportions - unknown numerator\n",
        "def proportions_n():\n",
        "    import random\n",
        "    # Uses string_frac() function\n",
        "    n1 = random.randint(1,21)\n",
        "    d1 = random.randint(1,21)\n",
        "    n2 = \"x\"\n",
        "    d2 = random.randint(1,21)\n",
        "    print(n1, \"\\t\\t\", n2)\\\n",
        "    print(\"--- \\t = \\t ---\")\n",
        "    print(d1, \"\\t\\t\", d2)\n",
        "    print(\" \")\n",
        "    ans_in = input(\"x = \")\n",
        "    answer = d2*n1/d1\n",
        "    if string_frac(ans_in)==answer:\n",
        "        print(\"Correct! \\n\")\n",
        "    else:\n",
        "        print(\"Try again\")\n",
        "        print(\"The correct answer is \", answer, \"\\n\")\n",
        "\n",
        "\n",
        "# Proportions - unknown denominator\n",
        "def proportions_d():\n",
        "    import random\n",
        "    # Uses string_frac() function\n",
        "    n1 = random.randint(1,21)\n",
        "    d1 = random.randint(1,21)\n",
        "    n2 = random.randint(1,21)\n",
        "    d2 = \"x\"\n",
        "    print(n1, \"\\t\\t\", n2)\n",
        "    print(\"--- \\t = \\t ---\")\n",
        "    print(d1, \"\\t\\t\", d2)\n",
        "    print(\" \")\n",
        "    ans_in = input(\"x = \")\n",
        "    answer = d1*n2/n1\n",
        "    if string_frac(ans_in)==answer:\n",
        "        print(\"Correct! \\n\")\n",
        "    else:\n",
        "        print(\"Try again\")\n",
        "        print(\"The correct answer is \", answer, \"\\n\")\n",
        "\n",
        "\n",
        "# test loop\n",
        "for a in range(2):\n",
        "    proportions_n()\n",
        "    proportions_d()\n",
        "    print(\" \")\n",
        "\n"
      ],
      "metadata": {
        "colab": {
          "base_uri": "https://localhost:8080/"
        },
        "id": "0Ed_t53_NbF8",
        "outputId": "fbd7c44d-0717-4d6e-bb42-95ddf11e4fdd"
      },
      "execution_count": 4,
      "outputs": [
        {
          "output_type": "stream",
          "name": "stdout",
          "text": [
            "16 \t\t x\n",
            "--- \t = \t ---\n",
            "10 \t\t 5\n",
            " \n",
            "x = 2\n",
            "Try again\n",
            "The correct answer is  8.0 \n",
            "\n",
            "17 \t\t 6\n",
            "--- \t = \t ---\n",
            "4 \t\t x\n",
            " \n",
            "x = 1.411\n",
            "Try again\n",
            "The correct answer is  1.411764705882353 \n",
            "\n",
            " \n",
            "21 \t\t x\n",
            "--- \t = \t ---\n",
            "14 \t\t 12\n",
            " \n",
            "x = 4\n",
            "Try again\n",
            "The correct answer is  18.0 \n",
            "\n",
            "11 \t\t 15\n",
            "--- \t = \t ---\n",
            "7 \t\t x\n",
            " \n",
            "x = 0\n",
            "Try again\n",
            "The correct answer is  9.545454545454545 \n",
            "\n",
            " \n"
          ]
        }
      ]
    }
  ]
}