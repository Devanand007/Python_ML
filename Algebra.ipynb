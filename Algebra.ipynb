{
  "nbformat": 4,
  "nbformat_minor": 0,
  "metadata": {
    "colab": {
      "provenance": [],
      "collapsed_sections": [
        "MPTh9RTHCTRg"
      ],
      "authorship_tag": "ABX9TyMwphsawSL3lIf30C5RQxQp",
      "include_colab_link": true
    },
    "kernelspec": {
      "name": "python3",
      "display_name": "Python 3"
    },
    "language_info": {
      "name": "python"
    }
  },
  "cells": [
    {
      "cell_type": "markdown",
      "metadata": {
        "id": "view-in-github",
        "colab_type": "text"
      },
      "source": [
        "<a href=\"https://colab.research.google.com/github/Devanand007/Python_ML/blob/main/Algebra.ipynb\" target=\"_parent\"><img src=\"https://colab.research.google.com/assets/colab-badge.svg\" alt=\"Open In Colab\"/></a>"
      ]
    },
    {
      "cell_type": "markdown",
      "source": [
        "# Ratio ,proportion and conversion\n"
      ],
      "metadata": {
        "id": "MPTh9RTHCTRg"
      }
    },
    {
      "cell_type": "markdown",
      "source": [
        "\n",
        "Set up a proportion:<br>\n",
        "$\\frac {n1}{d1} = \\frac {n2}{d2}$"
      ],
      "metadata": {
        "id": "H316IrAqG1Mr"
      }
    },
    {
      "cell_type": "code",
      "source": [
        "#Put a zero in for the unknown value\n",
        "n1 = 1\n",
        "d1 = 2\n",
        "n2 = int(input('enter n1 if it x then 0'))\n",
        "d2 = int (input('enter d2 if its x then input 0'))\n",
        "\n",
        "if n2==0:\n",
        "    answer = d2 * n1 / d1\n",
        "    print(\"n2 = \", answer)\n",
        "\n",
        "if d2==0:\n",
        "    answer = n2 * d1 / n1\n",
        "    print(\"d2 = \", answer)"
      ],
      "metadata": {
        "id": "ajDW93lVG0YR"
      },
      "execution_count": null,
      "outputs": []
    },
    {
      "cell_type": "code",
      "source": [
        "# converts string input (including fractions) to float\n",
        "def string_frac(in_string):\n",
        "    if \"/\" in in_string:\n",
        "        nd = in_string.split(\"/\")\n",
        "        n = float(nd[0])\n",
        "        d = float(nd[1])\n",
        "        ans = n/d\n",
        "        return ans\n",
        "    else:\n",
        "        ans = float(in_string)\n",
        "        return ans\n",
        "\n",
        "\n",
        "# Proportions - unknown numerator\n",
        "def proportions_n():\n",
        "    import random\n",
        "    # Uses string_frac() function\n",
        "    n1 = random.randint(1,21)\n",
        "    d1 = random.randint(1,21)\n",
        "    n2 = \"x\"\n",
        "    d2 = random.randint(1,21)\n",
        "    print(n1, \"\\t\\t\", n2)\n",
        "    print(\"--- \\t = \\t ---\")\n",
        "    print(d1, \"\\t\\t\", d2)\n",
        "    print(\" \")\n",
        "    ans_in = input(\"x = \")\n",
        "    answer = d2*n1/d1\n",
        "    if string_frac(ans_in)==answer:\n",
        "        print(\"Correct! \\n\")\n",
        "    else:\n",
        "        print(\"Try again\")\n",
        "        print(\"The correct answer is \", answer, \"\\n\")\n",
        "\n",
        "\n",
        "# Proportions - unknown denominator\n",
        "def proportions_d():\n",
        "    import random\n",
        "    # Uses string_frac() function\n",
        "    n1 = random.randint(1,21)\n",
        "    d1 = random.randint(1,21)\n",
        "    n2 = random.randint(1,21)\n",
        "    d2 = \"x\"\n",
        "    print(n1, \"\\t\\t\", n2)\n",
        "    print(\"--- \\t = \\t ---\")\n",
        "    print(d1, \"\\t\\t\", d2)\n",
        "    print(\" \")\n",
        "    ans_in = input(\"x = \")\n",
        "    answer = d1*n2/n1\n",
        "    if string_frac(ans_in)==answer:\n",
        "        print(\"Correct! \\n\")\n",
        "    else:\n",
        "        print(\"Try again\")\n",
        "        print(\"The correct answer is \", answer, \"\\n\")\n",
        "\n",
        "\n",
        "# test loop\n",
        "for a in range(2):\n",
        "    proportions_n()\n",
        "    proportions_d()\n",
        "    print(\" \")\n",
        "\n"
      ],
      "metadata": {
        "id": "0Ed_t53_NbF8"
      },
      "execution_count": null,
      "outputs": []
    },
    {
      "cell_type": "markdown",
      "source": [
        "#Solving for x."
      ],
      "metadata": {
        "id": "nmh9aCTXB1V1"
      }
    },
    {
      "cell_type": "markdown",
      "source": [
        "Prompt for someone to enter the equation, then solve"
      ],
      "metadata": {
        "id": "LONrKSSCKNQW"
      }
    },
    {
      "cell_type": "code",
      "source": [
        "import sympy\n",
        "from sympy import symbols\n",
        "from sympy.solvers import solve\n",
        "\n",
        "x= symbols('x')\n",
        "eq = input('Enter equation =0 :')\n",
        "print(\"x = \",solve(eq,x))"
      ],
      "metadata": {
        "id": "kGNmVyuxKXfZ"
      },
      "execution_count": null,
      "outputs": []
    },
    {
      "cell_type": "markdown",
      "source": [
        "Multiple Answer"
      ],
      "metadata": {
        "id": "HwrMeV-ZRuXD"
      }
    },
    {
      "cell_type": "code",
      "source": [
        "import sympy\n",
        "from sympy import symbols\n",
        "from sympy.solvers import solve\n",
        "\n",
        "x= symbols('x')\n",
        "eq = input('Enter equation =0 :')\n",
        "solution = solve(eq,x)\n",
        "for i in solution:\n",
        "  print(\"x =\",i)"
      ],
      "metadata": {
        "id": "08ghwktURzMZ"
      },
      "execution_count": null,
      "outputs": []
    },
    {
      "cell_type": "markdown",
      "source": [
        "# Factoring"
      ],
      "metadata": {
        "id": "yk9Dep9sUMFX"
      }
    },
    {
      "cell_type": "code",
      "source": [
        "import sympy\n",
        "from sympy import *\n",
        "\n",
        "var('x y')\n",
        "\n",
        "# Equation set equal to zero, ready to solve\n",
        "#eq = x**2-4\n",
        "#eq = x**3 - 2*x**2 - 5*x + 6\n",
        "eq = input(\"enter equation :\")\n",
        "\n",
        "sympy.factor(eq)"
      ],
      "metadata": {
        "id": "vmreyKvVUNTR"
      },
      "execution_count": null,
      "outputs": []
    },
    {
      "cell_type": "markdown",
      "source": [
        "Functions"
      ],
      "metadata": {
        "id": "jn_4mVZUVByp"
      }
    },
    {
      "cell_type": "code",
      "source": [
        "# converts string input (including fractions) to float\n",
        "def string_frac(in_string):\n",
        "    if \"/\" in in_string:\n",
        "        nd = in_string.split(\"/\")\n",
        "        n = float(nd[0])\n",
        "        d = float(nd[1])\n",
        "        ans = n/d\n",
        "        return ans\n",
        "    else:\n",
        "        ans = float(in_string)\n",
        "        return ans\n",
        "\n",
        "\n",
        "# Simplest one-step addition\n",
        "def one_step_add():\n",
        "    import random\n",
        "    # Display problem\n",
        "    a = random.randint(-4,10)\n",
        "    b = random.randint(2,24)\n",
        "    print(\"x + \", a, \" = \", b)\n",
        "    ans = float(input(\"x = \"))\n",
        "    answer = b-a\n",
        "    # Test input\n",
        "    if ans==answer:\n",
        "        print(\"Correct! \\n\")\n",
        "    else:\n",
        "        print(\"Try again\")\n",
        "        print(\"The correct answer is \", answer, \"\\n\")\n",
        "\n",
        "\n",
        "# One-step additon with negaive numbers\n",
        "def one_step_subtract():\n",
        "    import random\n",
        "    a = random.randint(-19,-1)\n",
        "    b = random.randint(2,24)\n",
        "    print(a, \" + x = \", b)\n",
        "    ans = float(input(\"x = \"))\n",
        "    # test\n",
        "    answer = b-a\n",
        "    if ans==answer:\n",
        "        print(\"Correct! \\n\")\n",
        "    else:\n",
        "        print(\"Try again\")\n",
        "        print(\"The correct answer is \", answer, \"\\n\")\n",
        "\n",
        "# One-step multiply\n",
        "def one_step_mult():\n",
        "    # Uses string_frac(<input string>)\n",
        "    import random\n",
        "    a = random.randint(1,11)\n",
        "    b = random.randint(2,24)\n",
        "    print(a, \"x = \", b)\n",
        "    ans_in = (input(\"x = \"))\n",
        "    answer = b/a\n",
        "    # test\n",
        "    if string_frac(ans_in)==answer:\n",
        "        print(\"Correct! \\n\")\n",
        "    else:\n",
        "        print(\"Try again\")\n",
        "        print(\"The correct answer is \", answer, \"\\n\")"
      ],
      "metadata": {
        "id": "qiTcBwtOVBZA"
      },
      "execution_count": 22,
      "outputs": []
    },
    {
      "cell_type": "markdown",
      "source": [
        "# Solve for a variable"
      ],
      "metadata": {
        "id": "dZG7pcprkUnX"
      }
    },
    {
      "cell_type": "code",
      "execution_count": 29,
      "metadata": {
        "colab": {
          "base_uri": "https://localhost:8080/"
        },
        "id": "HRKnfPl5iv30",
        "outputId": "dc809a6f-98e8-4a3f-f9c7-5c1f319cb448"
      },
      "outputs": [
        {
          "output_type": "stream",
          "name": "stdout",
          "text": [
            "x  =  (-b - sqrt(-4*a*c + b**2))/(2*a)\n",
            "x  =  (-b + sqrt(-4*a*c + b**2))/(2*a)\n"
          ]
        }
      ],
      "source": [
        "from sympy import *\n",
        "import math\n",
        "\n",
        "# Identify all variables\n",
        "var('a b c d x')\n",
        "\n",
        "# Left and right sides of the equal sign\n",
        "left = 0\n",
        "right = a*x**2 + b*x + c\n",
        "\n",
        "# Variable to solve for\n",
        "variable = x\n",
        "\n",
        "# Sympy equation left = right\n",
        "eq1 = Eq(left,right)\n",
        "\n",
        "# Sympy solve for that variable\n",
        "sol = solve(eq1,variable)\n",
        "\n",
        "# Show factored results\n",
        "for s in sol:\n",
        "    print(variable, \" = \", s)\n"
      ]
    },
    {
      "cell_type": "markdown",
      "source": [
        "#Fractions & Decimal"
      ],
      "metadata": {
        "id": "qMud6VFib93i"
      }
    },
    {
      "cell_type": "markdown",
      "source": [
        "Coverting deicmal into fraction"
      ],
      "metadata": {
        "id": "DXDzHPPJcMuA"
      }
    },
    {
      "cell_type": "code",
      "source": [
        "digit = input(\"Enter a decimal number: \")\n",
        "\n",
        "exponent = int(len(digit))-1\n",
        "\n",
        "n = float(digit)\n",
        "\n",
        "numerator = n * 10**exponent\n",
        "denominator = 10**exponent\n",
        "percentage = n **100\n",
        "\n",
        "print(\"The Decimal : \",n)\n",
        "print(\"the Fraction : \", numerator, \"/\",denominator)\n",
        "print(\"Percentage : \",percentage,\"%\")\n"
      ],
      "metadata": {
        "colab": {
          "base_uri": "https://localhost:8080/"
        },
        "id": "NnWBMmj6cEfT",
        "outputId": "4c3cc152-17bb-48fe-c2e6-8d3345058dc6"
      },
      "execution_count": 24,
      "outputs": [
        {
          "output_type": "stream",
          "name": "stdout",
          "text": [
            "Enter a decimal number: 0.123\n",
            "The Decimal :  0.123\n",
            "the Fraction :  1230.0 / 10000\n",
            "Percentage :  9.783880597725734e-92 %\n"
          ]
        }
      ]
    },
    {
      "cell_type": "code",
      "execution_count": null,
      "metadata": {
        "id": "egdhbgMnYPYA"
      },
      "outputs": [],
      "source": [
        "from sympy import *\n",
        "import math\n",
        "\n",
        "# Identify all variables\n",
        "var('a b c d x')\n",
        "\n",
        "# Left and right sides of the equal sign\n",
        "left = 0\n",
        "right = a*x**2 + b*x + c\n",
        "\n",
        "# Variable to solve for\n",
        "variable = x\n",
        "\n",
        "# Sympy equation left = right\n",
        "eq1 = Eq(left,right)\n",
        "\n",
        "# Sympy solve for that variable\n",
        "sol = solve(eq1,variable)\n",
        "\n",
        "# Show factored results\n",
        "for s in sol:\n",
        "    print(variable, \" = \", s)\n"
      ]
    }
  ]
}