{
  "nbformat": 4,
  "nbformat_minor": 0,
  "metadata": {
    "colab": {
      "provenance": [],
      "collapsed_sections": [
        "MPTh9RTHCTRg",
        "nmh9aCTXB1V1",
        "yk9Dep9sUMFX",
        "dZG7pcprkUnX",
        "qMud6VFib93i",
        "kehTnNjXpyDN"
      ],
      "toc_visible": true,
      "authorship_tag": "ABX9TyNuzDlLbv82CjfxW1Y0wiHY",
      "include_colab_link": true
    },
    "kernelspec": {
      "name": "python3",
      "display_name": "Python 3"
    },
    "language_info": {
      "name": "python"
    }
  },
  "cells": [
    {
      "cell_type": "markdown",
      "metadata": {
        "id": "view-in-github",
        "colab_type": "text"
      },
      "source": [
        "<a href=\"https://colab.research.google.com/github/Devanand007/Python_ML/blob/main/Algebra.ipynb\" target=\"_parent\"><img src=\"https://colab.research.google.com/assets/colab-badge.svg\" alt=\"Open In Colab\"/></a>"
      ]
    },
    {
      "cell_type": "markdown",
      "source": [
        "# Ratio ,proportion and conversion\n"
      ],
      "metadata": {
        "id": "MPTh9RTHCTRg"
      }
    },
    {
      "cell_type": "markdown",
      "source": [
        "\n",
        "Set up a proportion:<br>\n",
        "$\\frac {n1}{d1} = \\frac {n2}{d2}$"
      ],
      "metadata": {
        "id": "H316IrAqG1Mr"
      }
    },
    {
      "cell_type": "code",
      "source": [
        "#Put a zero in for the unknown value\n",
        "n1 = 1\n",
        "d1 = 2\n",
        "n2 = int(input('enter n1 if it x then 0'))\n",
        "d2 = int (input('enter d2 if its x then input 0'))\n",
        "\n",
        "if n2==0:\n",
        "    answer = d2 * n1 / d1\n",
        "    print(\"n2 = \", answer)\n",
        "\n",
        "if d2==0:\n",
        "    answer = n2 * d1 / n1\n",
        "    print(\"d2 = \", answer)"
      ],
      "metadata": {
        "id": "ajDW93lVG0YR"
      },
      "execution_count": null,
      "outputs": []
    },
    {
      "cell_type": "code",
      "source": [
        "# converts string input (including fractions) to float\n",
        "def string_frac(in_string):\n",
        "    if \"/\" in in_string:\n",
        "        nd = in_string.split(\"/\")\n",
        "        n = float(nd[0])\n",
        "        d = float(nd[1])\n",
        "        ans = n/d\n",
        "        return ans\n",
        "    else:\n",
        "        ans = float(in_string)\n",
        "        return ans\n",
        "\n",
        "\n",
        "# Proportions - unknown numerator\n",
        "def proportions_n():\n",
        "    import random\n",
        "    # Uses string_frac() function\n",
        "    n1 = random.randint(1,21)\n",
        "    d1 = random.randint(1,21)\n",
        "    n2 = \"x\"\n",
        "    d2 = random.randint(1,21)\n",
        "    print(n1, \"\\t\\t\", n2)\n",
        "    print(\"--- \\t = \\t ---\")\n",
        "    print(d1, \"\\t\\t\", d2)\n",
        "    print(\" \")\n",
        "    ans_in = input(\"x = \")\n",
        "    answer = d2*n1/d1\n",
        "    if string_frac(ans_in)==answer:\n",
        "        print(\"Correct! \\n\")\n",
        "    else:\n",
        "        print(\"Try again\")\n",
        "        print(\"The correct answer is \", answer, \"\\n\")\n",
        "\n",
        "\n",
        "# Proportions - unknown denominator\n",
        "def proportions_d():\n",
        "    import random\n",
        "    # Uses string_frac() function\n",
        "    n1 = random.randint(1,21)\n",
        "    d1 = random.randint(1,21)\n",
        "    n2 = random.randint(1,21)\n",
        "    d2 = \"x\"\n",
        "    print(n1, \"\\t\\t\", n2)\n",
        "    print(\"--- \\t = \\t ---\")\n",
        "    print(d1, \"\\t\\t\", d2)\n",
        "    print(\" \")\n",
        "    ans_in = input(\"x = \")\n",
        "    answer = d1*n2/n1\n",
        "    if string_frac(ans_in)==answer:\n",
        "        print(\"Correct! \\n\")\n",
        "    else:\n",
        "        print(\"Try again\")\n",
        "        print(\"The correct answer is \", answer, \"\\n\")\n",
        "\n",
        "\n",
        "# test loop\n",
        "for a in range(2):\n",
        "    proportions_n()\n",
        "    proportions_d()\n",
        "    print(\" \")\n",
        "\n"
      ],
      "metadata": {
        "id": "0Ed_t53_NbF8"
      },
      "execution_count": null,
      "outputs": []
    },
    {
      "cell_type": "markdown",
      "source": [
        "#Solving for x."
      ],
      "metadata": {
        "id": "nmh9aCTXB1V1"
      }
    },
    {
      "cell_type": "markdown",
      "source": [
        "Prompt for someone to enter the equation, then solve"
      ],
      "metadata": {
        "id": "LONrKSSCKNQW"
      }
    },
    {
      "cell_type": "code",
      "source": [
        "import sympy\n",
        "from sympy import symbols\n",
        "from sympy.solvers import solve\n",
        "\n",
        "x= symbols('x')\n",
        "eq = input('Enter equation =0 :')\n",
        "print(\"x = \",solve(eq,x))"
      ],
      "metadata": {
        "id": "kGNmVyuxKXfZ"
      },
      "execution_count": null,
      "outputs": []
    },
    {
      "cell_type": "markdown",
      "source": [
        "Multiple Answer"
      ],
      "metadata": {
        "id": "HwrMeV-ZRuXD"
      }
    },
    {
      "cell_type": "code",
      "source": [
        "import sympy\n",
        "from sympy import symbols\n",
        "from sympy.solvers import solve\n",
        "\n",
        "x= symbols('x')\n",
        "eq = input('Enter equation =0 :')\n",
        "solution = solve(eq,x)\n",
        "for i in solution:\n",
        "  print(\"x =\",i)"
      ],
      "metadata": {
        "id": "08ghwktURzMZ"
      },
      "execution_count": null,
      "outputs": []
    },
    {
      "cell_type": "markdown",
      "source": [
        "# Factoring"
      ],
      "metadata": {
        "id": "yk9Dep9sUMFX"
      }
    },
    {
      "cell_type": "code",
      "source": [
        "import sympy\n",
        "from sympy import *\n",
        "\n",
        "var('x y')\n",
        "\n",
        "# Equation set equal to zero, ready to solve\n",
        "#eq = x**2-4\n",
        "#eq = x**3 - 2*x**2 - 5*x + 6\n",
        "eq = input(\"enter equation :\")\n",
        "\n",
        "sympy.factor(eq)"
      ],
      "metadata": {
        "id": "vmreyKvVUNTR"
      },
      "execution_count": null,
      "outputs": []
    },
    {
      "cell_type": "markdown",
      "source": [
        "Functions"
      ],
      "metadata": {
        "id": "jn_4mVZUVByp"
      }
    },
    {
      "cell_type": "code",
      "source": [
        "# converts string input (including fractions) to float\n",
        "def string_frac(in_string):\n",
        "    if \"/\" in in_string:\n",
        "        nd = in_string.split(\"/\")\n",
        "        n = float(nd[0])\n",
        "        d = float(nd[1])\n",
        "        ans = n/d\n",
        "        return ans\n",
        "    else:\n",
        "        ans = float(in_string)\n",
        "        return ans\n",
        "\n",
        "\n",
        "# Simplest one-step addition\n",
        "def one_step_add():\n",
        "    import random\n",
        "    # Display problem\n",
        "    a = random.randint(-4,10)\n",
        "    b = random.randint(2,24)\n",
        "    print(\"x + \", a, \" = \", b)\n",
        "    ans = float(input(\"x = \"))\n",
        "    answer = b-a\n",
        "    # Test input\n",
        "    if ans==answer:\n",
        "        print(\"Correct! \\n\")\n",
        "    else:\n",
        "        print(\"Try again\")\n",
        "        print(\"The correct answer is \", answer, \"\\n\")\n",
        "\n",
        "\n",
        "# One-step additon with negaive numbers\n",
        "def one_step_subtract():\n",
        "    import random\n",
        "    a = random.randint(-19,-1)\n",
        "    b = random.randint(2,24)\n",
        "    print(a, \" + x = \", b)\n",
        "    ans = float(input(\"x = \"))\n",
        "    # test\n",
        "    answer = b-a\n",
        "    if ans==answer:\n",
        "        print(\"Correct! \\n\")\n",
        "    else:\n",
        "        print(\"Try again\")\n",
        "        print(\"The correct answer is \", answer, \"\\n\")\n",
        "\n",
        "# One-step multiply\n",
        "def one_step_mult():\n",
        "    # Uses string_frac(<input string>)\n",
        "    import random\n",
        "    a = random.randint(1,11)\n",
        "    b = random.randint(2,24)\n",
        "    print(a, \"x = \", b)\n",
        "    ans_in = (input(\"x = \"))\n",
        "    answer = b/a\n",
        "    # test\n",
        "    if string_frac(ans_in)==answer:\n",
        "        print(\"Correct! \\n\")\n",
        "    else:\n",
        "        print(\"Try again\")\n",
        "        print(\"The correct answer is \", answer, \"\\n\")"
      ],
      "metadata": {
        "id": "qiTcBwtOVBZA"
      },
      "execution_count": null,
      "outputs": []
    },
    {
      "cell_type": "markdown",
      "source": [
        "# Solve for a variable"
      ],
      "metadata": {
        "id": "dZG7pcprkUnX"
      }
    },
    {
      "cell_type": "code",
      "execution_count": null,
      "metadata": {
        "id": "HRKnfPl5iv30"
      },
      "outputs": [],
      "source": [
        "from sympy import *\n",
        "import math\n",
        "\n",
        "# Identify all variables\n",
        "var('a b c d x')\n",
        "\n",
        "# Left and right sides of the equal sign\n",
        "left = 0\n",
        "right = a*x**2 + b*x + c\n",
        "\n",
        "# Variable to solve for\n",
        "variable = x\n",
        "\n",
        "# Sympy equation left = right\n",
        "eq1 = Eq(left,right)\n",
        "\n",
        "# Sympy solve for that variable\n",
        "sol = solve(eq1,variable)\n",
        "\n",
        "# Show factored results\n",
        "for s in sol:\n",
        "    print(variable, \" = \", s)\n"
      ]
    },
    {
      "cell_type": "markdown",
      "source": [
        "#Fractions & Decimal"
      ],
      "metadata": {
        "id": "qMud6VFib93i"
      }
    },
    {
      "cell_type": "markdown",
      "source": [
        "Coverting deicmal into fraction"
      ],
      "metadata": {
        "id": "DXDzHPPJcMuA"
      }
    },
    {
      "cell_type": "code",
      "source": [
        "digit = input(\"Enter a decimal number: \")\n",
        "\n",
        "exponent = int(len(digit))-1\n",
        "\n",
        "n = float(digit)\n",
        "\n",
        "numerator = n * 10**exponent\n",
        "denominator = 10**exponent\n",
        "percentage = n **100\n",
        "\n",
        "print(\"The Decimal : \",n)\n",
        "print(\"the Fraction : \", numerator, \"/\",denominator)\n",
        "print(\"Percentage : \",percentage,\"%\")\n"
      ],
      "metadata": {
        "id": "NnWBMmj6cEfT"
      },
      "execution_count": null,
      "outputs": []
    },
    {
      "cell_type": "markdown",
      "source": [
        "Function"
      ],
      "metadata": {
        "id": "5e_bIL3im5oS"
      }
    },
    {
      "cell_type": "code",
      "execution_count": null,
      "metadata": {
        "id": "tbyFnUTI6PD2"
      },
      "outputs": [],
      "source": [
        "# converts string input (even fractions) to float\n",
        "def string_frac(in_string):\n",
        "    if \"/\" in in_string:\n",
        "        nd = in_string.split(\"/\")\n",
        "        n = float(nd[0])\n",
        "        d = float(nd[1])\n",
        "        ans = n/d\n",
        "        return ans\n",
        "    else:\n",
        "        ans = float(in_string)\n",
        "        return ans\n",
        "\n",
        "\n",
        "# Decimal to fraction\n",
        "def dec_to_frac_test():\n",
        "    import random\n",
        "    import math\n",
        "    # Uses string_frac()\n",
        "    print(\"Convert the following decimal to a fraction\")\n",
        "    print(\"Just use the / to write your fraction\")\n",
        "    places = random.randint(1,4)\n",
        "    decimal = round(random.random(), places)\n",
        "    print(decimal)\n",
        "    d = 10**places\n",
        "    n = decimal*d\n",
        "    ans_in = input(\"Fraction: \")\n",
        "    if string_frac(ans_in)==decimal:\n",
        "        print(\"Correct! \\n\")\n",
        "    else:\n",
        "        print(\"Try again\")\n",
        "        print(\"The answer is \", n, \"/\", d)\n",
        "\n",
        "\n",
        "# Fraction to percent\n",
        "def frac_to_perc_test():\n",
        "    import random\n",
        "    print(\"Convert the following fraction to a percent\")\n",
        "    n = round(random.randint(1,99))\n",
        "    d = round(random.randint(2,200))\n",
        "    print(n, \"/\", d)\n",
        "    percent = round(n/d*100,2)\n",
        "    print(\"Round your answer to two decimal places\")\n",
        "    ans = float(input(\"Percent: \"))\n",
        "    if ans==percent:\n",
        "        print(\"Correct!\")\n",
        "    else:\n",
        "        print(\"Try again\")\n",
        "        print(\"The answer is \", percent)\n",
        "\n",
        "\n",
        "# test loop\n",
        "for a in range(3):\n",
        "    dec_to_frac_test()\n",
        "    frac_to_perc_test()\n",
        "    print(\" \")\n"
      ]
    },
    {
      "cell_type": "markdown",
      "source": [
        "# Functions & Graphing"
      ],
      "metadata": {
        "id": "kehTnNjXpyDN"
      }
    },
    {
      "cell_type": "markdown",
      "source": [
        "Defining Math Function on python"
      ],
      "metadata": {
        "id": "eHwER5WZqGP5"
      }
    },
    {
      "cell_type": "code",
      "source": [
        "def f(x):\n",
        "   y = 4*x + 3\n",
        "   return y\n",
        "\n",
        "print(5, \",\", f(5))\n",
        "\n",
        "# Next, a loop\n",
        "for x in range(11):\n",
        "    print(x, \"\\t\", f(x))"
      ],
      "metadata": {
        "id": "qDeIoAtSp2-t"
      },
      "execution_count": null,
      "outputs": []
    },
    {
      "cell_type": "markdown",
      "source": [
        "Graphing"
      ],
      "metadata": {
        "id": "5wNLAZzmtTmR"
      }
    },
    {
      "cell_type": "code",
      "source": [
        "import matplotlib.pyplot as plt\n",
        "\n",
        "xmin =  -10\n",
        "xmax =   10\n",
        "ymin =  -10\n",
        "ymax =   10\n",
        "fig,ax= plt.subplots()\n",
        "#Dimensions\n",
        "plt.axis([xmin,xmax,ymin,ymax])\n",
        "plt.plot([xmin,xmax],[0,0],'b')#blue xaxis\n",
        "plt.plot([0,0],[ymin,ymax],'b')#blue y axis\n",
        "print(\"x \\t y\")\n",
        "for x in range(xmin,xmax+1):\n",
        "  y= x-1\n",
        "  plt.plot(x,y,'ro')\n",
        "  print(x,\"\\t\",y)\n",
        "plt.show()\n",
        "\n",
        "\n"
      ],
      "metadata": {
        "id": "JqZlSQA_tXb0"
      },
      "execution_count": null,
      "outputs": []
    },
    {
      "cell_type": "markdown",
      "source": [
        "Graphing"
      ],
      "metadata": {
        "id": "Wjmdincx-2-e"
      }
    },
    {
      "cell_type": "code",
      "source": [
        "import matplotlib.pyplot as plt\n",
        "import numpy as np\n",
        "xmin   =  -10\n",
        "xmax   =   10\n",
        "ymin   =  -10\n",
        "ymax   =   10\n",
        "points =   2*(xmax-xmin)\n",
        "x      = np.linspace(xmin,xmax,points)\n",
        "y = 2*x +1\n",
        "fig,ax= plt.subplots()\n",
        "ax.set_xlabel('X-Values')\n",
        "ax.set_ylabel('Y-Values')\n",
        "ax.set_title('Linear Equation')\n",
        "ax.set_xticks(np.arange(xmin, xmax, 1))\n",
        "ax.set_yticks(np.arange(ymin, ymax, 1))\n",
        "ax.grid(True)\n",
        "#Dimensions\n",
        "plt.axis([xmin,xmax,ymin,ymax])\n",
        "plt.plot([xmin,xmax],[0,0],'b')#blue xaxis\n",
        "plt.plot([0,0],[ymin,ymax],'b')#blue y axis\n",
        "\n",
        "plt.plot(x,y,'pink',label='y=2x+1')\n",
        "plt.plot(x,x*3,'green',label='y=3x')\n",
        "plt.plot([4],[5],'ro', label='point')\n",
        "plt.legend()\n",
        "plt.show()\n"
      ],
      "metadata": {
        "id": "xJv6MMt8-5z9"
      },
      "execution_count": null,
      "outputs": []
    },
    {
      "cell_type": "markdown",
      "source": [
        "# Linear Function"
      ],
      "metadata": {
        "id": "9TrzedRNZ1bg"
      }
    },
    {
      "cell_type": "markdown",
      "source": [
        "y= mx+b"
      ],
      "metadata": {
        "id": "ISatcWvsZ7s-"
      }
    },
    {
      "cell_type": "code",
      "source": [
        "import matplotlib.pyplot as plt\n",
        "\n",
        "\n",
        "x1  = float(input('enter x1: '))\n",
        "x2  = float(input('enter x2: '))\n",
        "y1  = float(input('enter y1: '))\n",
        "y2  = float(input('enter y2: '))\n",
        "\n",
        "#slope\n",
        "M = (y2-y1)/(x2-x1)\n",
        "b =  y1-(M* x1)\n",
        "#equation of y= mx + b\n",
        "print('y = ',M,'x + ',b)\n",
        "\n",
        "#for graph change axis length accordingly here\n",
        "xmin = -10\n",
        "xmax = 10\n",
        "ymin = -10\n",
        "ymax = 10\n",
        "\n",
        "#plotting graph\n",
        "fig, ax = plt.subplots()\n",
        "plt.axis([xmin,xmax,ymin,ymax]) # window size\n",
        "plt.plot([xmin,xmax],[0,0],'b') # blue x axis\n",
        "plt.plot([0,0],[ymin,ymax], 'b')\n",
        "\n",
        "# axis labels\n",
        "ax.set_xlabel(\"X values\")\n",
        "ax.set_ylabel(\"Y values\")\n",
        "ax.set_title('Linear Equation')\n",
        "ax.grid(True)\n",
        "\n",
        "#plot linear equations3\n",
        "y3 = M * xmin + b\n",
        "y4 = M * xmax + b\n",
        "plt.plot([xmin,xmax],[ y3,y4],'r')\n",
        "plt.show()\n"
      ],
      "metadata": {
        "id": "KdAdOecIZ6-6"
      },
      "execution_count": null,
      "outputs": []
    },
    {
      "cell_type": "markdown",
      "source": [
        "# Reducing fraction to lowest term"
      ],
      "metadata": {
        "id": "p9sF30t4vyZ0"
      }
    },
    {
      "cell_type": "code",
      "source": [
        "def string_frac(in_string):\n",
        "    if \"/\" in in_string:\n",
        "        nd = in_string.split(\"/\")\n",
        "        n = int(nd[0])\n",
        "        d = int(nd[1])\n",
        "        max_factor=1\n",
        "        for factor in range (1,d+1):\n",
        "          if(n%factor==0 and d%factor==0):\n",
        "            max_factor=factor\n",
        "        print(int(n/max_factor) ,'/',int(d/max_factor))\n",
        "\n",
        "\n",
        "fraction = input('enter fraction: ')\n",
        "string_frac(fraction)\n",
        "\n",
        "\n"
      ],
      "metadata": {
        "id": "jEEWjQRjv6CH"
      },
      "execution_count": null,
      "outputs": []
    },
    {
      "cell_type": "markdown",
      "source": [
        "#Reducing Decimal to lowest fraction"
      ],
      "metadata": {
        "id": "zBh7cCrOyUXi"
      }
    },
    {
      "cell_type": "code",
      "source": [
        "digit = input(\"Enter a decimal number: \")\n",
        "\n",
        "exponent = int(len(digit))-1\n",
        "\n",
        "n = float(digit)\n",
        "\n",
        "numerator = n * 10**exponent\n",
        "denominator = 10**exponent\n",
        "max_factor=1\n",
        "for factor in range (1,denominator+1):\n",
        "  if(numerator%factor==0 and denominator%factor==0):\n",
        "    max_factor=factor\n",
        "print(\"The Decimal : \",n)\n",
        "print(\"the Fraction : \", int(numerator/max_factor) ,'/',int(denominator/max_factor))"
      ],
      "metadata": {
        "colab": {
          "base_uri": "https://localhost:8080/"
        },
        "id": "Crv1EermybGL",
        "outputId": "b6776f23-c421-449d-d2f3-b225e5c9297a"
      },
      "execution_count": 34,
      "outputs": [
        {
          "output_type": "stream",
          "name": "stdout",
          "text": [
            "Enter a decimal number: 1.25\n",
            "The Decimal :  1.25\n",
            "the Fraction :  5 / 4\n"
          ]
        }
      ]
    },
    {
      "cell_type": "markdown",
      "source": [
        "#Reducing Sqaure root  to lowest term"
      ],
      "metadata": {
        "id": "p5t6dGMy0L4-"
      }
    },
    {
      "cell_type": "code",
      "source": [
        "import math\n",
        "import sympy\n",
        "from sympy import symbols\n",
        "\n",
        "n = int(input('enter the number to find sqaure root: '))\n",
        "upper_limit = math.floor(math.sqrt(n))+1\n",
        "max_factor=1\n",
        "other_factor=1\n",
        "sqaure_root=1\n",
        "\n",
        "for maybe_factor in range (1,upper_limit):\n",
        "  if n%(maybe_factor**2) == 0:\n",
        "    max_factor=maybe_factor**2\n",
        "\n",
        "other_factor = n/max_factor\n",
        "\n",
        "square_root= int(math.sqrt(max_factor))\n",
        "other_factor = int(other_factor)\n",
        "output= square_root*sympy.sqrt(other_factor)\n",
        "\n",
        "output\n"
      ],
      "metadata": {
        "id": "0i1eBmOa0VvE"
      },
      "execution_count": null,
      "outputs": []
    }
  ]
}